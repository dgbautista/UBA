{
  "cells": [
    {
      "cell_type": "markdown",
      "metadata": {
        "collapsed": true,
        "id": "Dh8MkXaG-c9Y",
        "jupyter": {
          "outputs_hidden": true
        }
      },
      "source": [
        "# Big Data (UBA) - 2024\n",
        "\n",
        "## Trabajo Práctico 0 - Repaso de Programación en Python\n"
      ]
    },
    {
      "cell_type": "markdown",
      "metadata": {
        "id": "RhBlm6mZ-c9e"
      },
      "source": [
        "### Reglas de formato y presentación\n",
        "- El trabajo debe estar debidamente documentado comentado (utilizando #) para que tanto los docentes como sus compañeros puedan comprender el código fácilmente.\n",
        "\n",
        "- El mismo debe ser completado en este Jupyter Notebook y entregado como tal, es decir en un archivo .ipynb\n"
      ]
    },
    {
      "cell_type": "markdown",
      "metadata": {
        "id": "ZEjGaa4U-c9g"
      },
      "source": [
        "### Fecha de entrega:\n",
        "Viernes 11 de Octubre a las 13:00 hs"
      ]
    },
    {
      "cell_type": "markdown",
      "metadata": {
        "id": "N9TU2y7E-c9h"
      },
      "source": [
        "### Modalidad de entrega\n",
        "- Al finalizar el trabajo práctico deben hacer un último <i>commit</i> en su repositorio de GitHub llamado “Entrega final del tp”.\n",
        "- Asegurense de haber creado una carpeta llamada TP0. Este Jupyter Notebook y el correspondiente al TP0 deben estar dentro de esa carpeta.\n",
        "- También deben enviar el link de su repositorio -para que pueda ser clonado y corregido- por correo a m.n.romero91@gmail.com\n",
        "- La última versión en el repositorio es la que será evaluada. Por lo que es importante que:\n",
        "    - No envien el correo hasta no haber terminado y estar seguros de que han hecho el <i>commit y push</i> a la versión final que quieren entregar. Debido a que se pueden tomar hasta 3 días de extensión a lo largo del curso, no se corregirán sus tareas hasta no recibir el correo.\n",
        "    - No hagan nuevos <i>push</i> despues de haber entregado su versión final. Esto generaría confusión acerca de que versión es la que quieren que se les corrija."
      ]
    },
    {
      "cell_type": "markdown",
      "metadata": {
        "id": "ZXbrPraa-c9i"
      },
      "source": [
        "#### Ejercicio 1\n",
        "Este ejercicio simplemente busca repasar lo que aprendimos sobre definición de variables. Definir dos variables con un nombre combinado (al menos dos palabras), una que se pueda crear y otra que tenga un nombre inaceptable (genera error). Explicar por qué ocurre el error."
      ]
    },
    {
      "cell_type": "code",
      "execution_count": null,
      "metadata": {
        "id": "mb7PkXfN-c9j"
      },
      "outputs": [],
      "source": [
        "# Caso A\n",
        "\n",
        "# Definición de una variable válida con un nombre compuesto por dos palabras\n",
        "var_valida = \"Este es un nombre válido\"\n",
        "\n",
        "# Caso B (acá debería saltar un error)\n",
        "\n",
        "# Definición de una variable con un nombre inválido (genera un error)\n",
        "var-invalida = \"Esto generará un error\""
      ]
    },
    {
      "cell_type": "code",
      "source": [
        "var_valida = \"Este es un nombre válido\"\n",
        "print(var_valida)"
      ],
      "metadata": {
        "colab": {
          "base_uri": "https://localhost:8080/"
        },
        "id": "cyE-V-07Spwy",
        "outputId": "dee7b597-d07f-435b-8f13-d7664d8c0525"
      },
      "execution_count": null,
      "outputs": [
        {
          "output_type": "stream",
          "name": "stdout",
          "text": [
            "Este es un nombre válido\n"
          ]
        }
      ]
    },
    {
      "cell_type": "code",
      "source": [
        "var-invalida = \"Este es un nombre válido\"\n",
        "\n",
        "# Genera un error porque contiene un guion medio (-). En Python, el guion medio es interpretado como el operador de resta,\n",
        "# no como parte de un nombre de variable. Esto provoca un error de sintaxis,\n",
        "# ya que Python espera que se esté restando algo, pero encuentra un nombre incompleto."
      ],
      "metadata": {
        "id": "2dyzhTkKS35i"
      },
      "execution_count": null,
      "outputs": []
    },
    {
      "cell_type": "markdown",
      "source": [
        "Genera un error porque contiene un guion medio (-). En Python, el guion medio es interpretado como el operador de resta, no como parte de un nombre de variable. Esto provoca un error de sintaxis, ya que Python espera que se esté restando algo, pero encuentra un nombre incompleto."
      ],
      "metadata": {
        "id": "92vRKIyCTQX3"
      }
    },
    {
      "cell_type": "markdown",
      "metadata": {
        "id": "9f9Jpnh7RKoX"
      },
      "source": [
        "#### Ejercicio 2\n",
        "Importar módulos. Usando el módulo math impriman la tangente de 1. ¿Cuál es el resultado?\n",
        "Hagan este cálculo de dos formas: primero importando el módulo math y usando la función correspondiente y luego solo importando la función específica que precisan para el cálculo."
      ]
    },
    {
      "cell_type": "code",
      "execution_count": null,
      "metadata": {
        "colab": {
          "base_uri": "https://localhost:8080/"
        },
        "id": "SvrQSC0rRKoX",
        "outputId": "3ae00402-b62d-4c69-cbb9-a3b1eef5d989"
      },
      "outputs": [
        {
          "output_type": "stream",
          "name": "stdout",
          "text": [
            "1.5574077246549023\n",
            "1.5574077246549023\n"
          ]
        }
      ],
      "source": [
        "# Caso A\n",
        "import math\n",
        "print(math.tan(1))\n",
        "\n",
        "# Caso B\n",
        "\n",
        "from math import tan\n",
        "print(tan(1))"
      ]
    },
    {
      "cell_type": "markdown",
      "metadata": {
        "id": "GlNh0fyv-c9l"
      },
      "source": [
        "#### Ejercicio 3\n",
        "Este ejercicio trata sobre lograr el intercambio de valores entre dos variables utilizando una variable temporal para hacerlo. Las variables temporales y la sustitución de valores termina siendo útil en algunos loops. Los pasos a seguir son: (a) definir variables A y B (cuyos valores buscaremos invertir); (b) definir una variable temporal que resguarde el valor de B; (c) sustitución (asignar B igual a A y también A igual al valor original de B); (d) imprimir valores para verificar."
      ]
    },
    {
      "cell_type": "code",
      "execution_count": null,
      "metadata": {
        "id": "uWalSYFC-c9m",
        "colab": {
          "base_uri": "https://localhost:8080/"
        },
        "outputId": "3b9ac863-2d55-4b67-9765-bd0bd1fdbd41"
      },
      "outputs": [
        {
          "output_type": "stream",
          "name": "stdout",
          "text": [
            "A = 2\n",
            "B = 1\n"
          ]
        }
      ],
      "source": [
        "# a) Definir variables A y B,\n",
        "a = 1\n",
        "b = 2\n",
        "\n",
        "# b) Definir variable temporal \"tmp\" igual a B (la variable, no el valor)\n",
        "\n",
        "tmp = b\n",
        "\n",
        "# c) Ahora sustituir variables: variable B igual a variable A (la variable, no el\n",
        "# valor) y viceversa.\n",
        "\n",
        "b = a\n",
        "a = tmp\n",
        "\n",
        "# d) Verifiquemos resultados: imprimir variables A y B\n",
        "\n",
        "print(\"A =\", a)\n",
        "print(\"B =\", b)"
      ]
    },
    {
      "cell_type": "markdown",
      "metadata": {
        "id": "wXhAaRyN-c9p"
      },
      "source": [
        "#### Ejercicio 4\n",
        "En este ejercicio se busca poner en práctica el uso de range() en un for loop.\n",
        "\n",
        "Construir un for loop usando un range(). El range debe ser entre los valores que quieran (con una diferencia mínima de 15 entre start y stop), en incrementos de 3 unidades. Dentro del loop, implementar una sentencia condicional que imprima una leyenda indicando si el input es par o impar."
      ]
    },
    {
      "cell_type": "code",
      "execution_count": null,
      "metadata": {
        "id": "_oE5sG0c-c9q",
        "colab": {
          "base_uri": "https://localhost:8080/"
        },
        "outputId": "be9ab6c5-ce0c-4853-d61b-9e75b380caec"
      },
      "outputs": [
        {
          "output_type": "stream",
          "name": "stdout",
          "text": [
            "10 es un número par\n",
            "13 es un número impar\n",
            "16 es un número par\n",
            "19 es un número impar\n",
            "22 es un número par\n",
            "25 es un número impar\n"
          ]
        }
      ],
      "source": [
        "# Resolver acá\n",
        "\n",
        "for num in range(10, 28, 3):  # Start = 10, Stop = 28 (diferencia de 18), Step = 3\n",
        "    if num % 2 == 0:\n",
        "        print(f\"{num} es un número par\")\n",
        "    else:\n",
        "        print(f\"{num} es un número impar\")"
      ]
    },
    {
      "cell_type": "markdown",
      "metadata": {
        "id": "h3g5bXUB-c9u"
      },
      "source": [
        "#### Ejercicio 5\n",
        "Para practicar el uso de condiciones lógicas y la definición de funciones, construir una función con una sentencia condicional que verifique si un año es bisiesto o no. Para que un año sea bisiesto debe cumplir una de dos condiciones:\n",
        "\n",
        "(a) que sea divisible por 400; o\n",
        "\n",
        "(b) que sea divisible por 4 y no sea divisible por 100\n",
        "\n",
        "Notar que son dos condiciones, donde la segunda condición tiene dos componentes. Prueben la función con 3 valores para verificar que funcione."
      ]
    },
    {
      "cell_type": "code",
      "execution_count": null,
      "metadata": {
        "id": "7_MnILdz-c9v",
        "colab": {
          "base_uri": "https://localhost:8080/"
        },
        "outputId": "62c11f62-6d83-47a1-c6b7-585ed0f01ccf"
      },
      "outputs": [
        {
          "output_type": "stream",
          "name": "stdout",
          "text": [
            "True\n",
            "False\n",
            "True\n"
          ]
        }
      ],
      "source": [
        "# Resolver acá\n",
        "\n",
        "# Definir la función para verificar si un año es bisiesto\n",
        "def es_bisiesto(anio):\n",
        "    # Condición (a): divisible por 400\n",
        "    if anio % 400 == 0:\n",
        "        return True\n",
        "    # Condición (b): divisible por 4 y no divisible por 100\n",
        "    elif anio % 4 == 0 and anio % 100 != 0:\n",
        "        return True\n",
        "    else:\n",
        "        return False\n",
        "\n",
        "# Probar la función con 3 valores\n",
        "print(es_bisiesto(2000))  # Bisiesto (divisible por 400)\n",
        "print(es_bisiesto(1900))  # No bisiesto (divisible por 100 pero no por 400)\n",
        "print(es_bisiesto(2024))  # Bisiesto (divisible por 4 y no por 100)"
      ]
    },
    {
      "cell_type": "markdown",
      "metadata": {
        "collapsed": true,
        "id": "P3a7bJkd-c9w",
        "jupyter": {
          "outputs_hidden": true
        }
      },
      "source": [
        "#### Ejercicio 6\n",
        "Pongamos en práctica identificar el type() de cada variable. A continuación tenemos una lista con elementos de diferentes tipos. Construyan un for loop que itere sobre la lista e imprima un cartel indicando el tipo de dato u objeto que hay en cada caso."
      ]
    },
    {
      "cell_type": "code",
      "execution_count": null,
      "metadata": {
        "id": "jDf4d_Wr-c9w"
      },
      "outputs": [],
      "source": [
        "mi_lista = [10, 34.5, 99999, 'abc', [1,2,3], ('ARG', 1810), {'pob': 45}, True]"
      ]
    },
    {
      "cell_type": "code",
      "execution_count": null,
      "metadata": {
        "id": "SAJgEiNEFQAS",
        "colab": {
          "base_uri": "https://localhost:8080/"
        },
        "outputId": "e76b537b-b7e9-4bc2-879f-7edd277c140f"
      },
      "outputs": [
        {
          "output_type": "stream",
          "name": "stdout",
          "text": [
            "El elemento 10 es de tipo <class 'int'>\n",
            "El elemento 34.5 es de tipo <class 'float'>\n",
            "El elemento 99999 es de tipo <class 'int'>\n",
            "El elemento abc es de tipo <class 'str'>\n",
            "El elemento [1, 2, 3] es de tipo <class 'list'>\n",
            "El elemento ('ARG', 1810) es de tipo <class 'tuple'>\n",
            "El elemento {'pob': 45} es de tipo <class 'dict'>\n",
            "El elemento True es de tipo <class 'bool'>\n"
          ]
        }
      ],
      "source": [
        "# Resolver acá\n",
        "\n",
        "for elemento in mi_lista:\n",
        "    print(f\"El elemento {elemento} es de tipo {type(elemento)}\")"
      ]
    },
    {
      "cell_type": "markdown",
      "metadata": {
        "id": "y1lncitl-c9x"
      },
      "source": [
        "#### Ejercicio 7\n",
        "Ahora definan ustedes una nueva lista, en la que los primeros cuatro elementos sean palabras (strings), el quinto elemento no sea string, y el sexto sea string. Construyan un for loop que corra por la lista y que imprima la palabra y la longitud de la misma. Que el loop contenga una sentencia condicional que imprima un cartel \"Elemento no es un string: < el elemento > | < class del elemento >\" para los casos dónde el elemento evaluado no sea string."
      ]
    },
    {
      "cell_type": "code",
      "execution_count": null,
      "metadata": {
        "id": "bFOk9Os0-c9x",
        "colab": {
          "base_uri": "https://localhost:8080/"
        },
        "outputId": "ea4812cd-cc3d-4635-b108-65664de0760c"
      },
      "outputs": [
        {
          "output_type": "stream",
          "name": "stdout",
          "text": [
            "La palabra Hola tiene 4 caracteres\n",
            "La palabra Diego tiene 5 caracteres\n",
            "La palabra Casa tiene 4 caracteres\n",
            "La palabra Carro tiene 5 caracteres\n",
            "Elemento no es un string: [1, 2, 5]  | <class 'list'>\n",
            "La palabra Perro tiene 5 caracteres\n"
          ]
        }
      ],
      "source": [
        "# Resolver acá\n",
        "\n",
        "# Nueva lista\n",
        "\n",
        "mi_lista_nueva= [\"Hola\",\t\"Diego\",\"Casa\",\"Carro\", [1,2,5],\"Perro\"]\n",
        "\n",
        "for elemento in mi_lista_nueva:\n",
        "  if type(elemento) != str:\n",
        "    print(f\"Elemento no es un string: {elemento}  | {type(elemento)}\")\n",
        "  else:\n",
        "    print(f\"La palabra {elemento} tiene {len(elemento)} caracteres\")"
      ]
    },
    {
      "cell_type": "markdown",
      "metadata": {
        "id": "dHAguWgpRKoY"
      },
      "source": [
        "#### Ejercicio 8"
      ]
    },
    {
      "cell_type": "markdown",
      "metadata": {
        "id": "TgmpCfCZRKoY"
      },
      "source": [
        "\\Construyan una función llamada 'suma' que tome una cantidad variable de parámetros y devuelva el resultado de la suma."
      ]
    },
    {
      "cell_type": "code",
      "execution_count": null,
      "metadata": {
        "id": "0w1eMBnCRKoZ",
        "colab": {
          "base_uri": "https://localhost:8080/"
        },
        "outputId": "dceb7acd-f732-40b5-8d50-2e4cc233c533"
      },
      "outputs": [
        {
          "output_type": "stream",
          "name": "stdout",
          "text": [
            "6\n",
            "100\n"
          ]
        }
      ],
      "source": [
        "# Resolver acá\n",
        "\n",
        "# Definir la función 'suma' que toma una cantidad variable de parámetros\n",
        "def suma(*args):\n",
        "    return sum(args)\n",
        "\n",
        "# Probar la función con diferentes números de parámetros\n",
        "print(suma(1, 2, 3))            # Resultado: 6\n",
        "print(suma(10, 20, 30, 40))     # Resultado: 100"
      ]
    },
    {
      "cell_type": "markdown",
      "metadata": {
        "id": "PUpxDz72-c9x"
      },
      "source": [
        "#### Ejercicio 9\n",
        "Argentina tiene una representación legislativa proporcional en la cual la cantidad de diputados se debería ajustar según el tamaño de población de cada provincia. Otra característica de la representación legislativa del país es que hay una cantidad mínima de diputados por provincia (5). Esto genera un desbalance en la cantidad de ciudadanos por cada representante en el Congreso entre provincias.\n",
        "\n",
        "A continuación preparamos algunos ejemplos, dividiendo la población de cada provincia (según estimación para el 2022) por la cantidad de representantes en el Congreso para esa misma jurisdicción. También armamos el equivalente para el total país y una lista con los valores provinciales.\n",
        "\n",
        "En este ejercicio les pedimos que construyan un for loop que itere sobre el diccionario definido y compare cada valor provincial contra el valor de proporcionalidad directa (la variable argentina). El loop debe imprimir una leyenda que indique si la provincia está sobrerepresentada, subrepresentada o con representación proporcional. Además, queremos que el mismo loop compare los valores de las provincias sobrerepresentadas y que guarde el valor de la provincia con mayor sobrerepresentación. Luego del loop impriman este valor así podemos ver que haya funcionado.\n",
        "\n",
        "Fuente para población: https://es.wikipedia.org/wiki/Demograf%C3%ADa_de_Argentina\n",
        "\n",
        "Fuente para representantes: https://es.wikipedia.org/wiki/C%C3%A1mara_de_Diputados_de_la_Naci%C3%B3n_Argentina"
      ]
    },
    {
      "cell_type": "code",
      "execution_count": null,
      "metadata": {
        "id": "hd8Z5AHs-c9y"
      },
      "outputs": [],
      "source": [
        "# Valor de referencia: proporcionalidad\n",
        "argentina = 46044703 / 257\n",
        "\n",
        "# Creamos variables para una selección de jurisdicciones\n",
        "cordoba = 3978984 / 18\n",
        "santa_fe = 3556522 / 19\n",
        "mendoza = 2014533 / 10\n",
        "buenos_aires = 17569053 / 70\n",
        "entre_rios =  1426426 / 9\n",
        "santa_cruz = 333473 / 5\n",
        "formosa = 606041 / 5\n",
        "\n",
        "# Definimos el diccionario para iterar\n",
        "dict_provincias = {\n",
        "    \"Córdoba\": cordoba,\n",
        "    \"Santa Fe\": santa_fe,\n",
        "    \"Mendoza\": mendoza,\n",
        "    \"Buenos Aires\": buenos_aires,\n",
        "    \"Entre Ríos\": entre_rios,\n",
        "    \"Santa Cruz\": santa_cruz,\n",
        "    \"Formosa\": formosa\n",
        "}"
      ]
    },
    {
      "cell_type": "code",
      "execution_count": null,
      "metadata": {
        "id": "fsEHnxiY-c9y",
        "scrolled": true,
        "colab": {
          "base_uri": "https://localhost:8080/"
        },
        "outputId": "649506b9-a689-4de2-ea65-2b217722fd2c"
      },
      "outputs": [
        {
          "output_type": "stream",
          "name": "stdout",
          "text": [
            "Córdoba está sobrerepresentada\n",
            "Santa Fe está sobrerepresentada\n",
            "Mendoza está sobrerepresentada\n",
            "Buenos Aires está sobrerepresentada\n",
            "Entre Ríos está subrepresentada\n",
            "Santa Cruz está subrepresentada\n",
            "Formosa está subrepresentada\n"
          ]
        }
      ],
      "source": [
        "# Resolver acá\n",
        "\n",
        "for i in dict_provincias:\n",
        "  if dict_provincias[i] > argentina:\n",
        "    print(f\"{i} está sobrerepresentada\")\n",
        "  elif dict_provincias[i] < argentina:\n",
        "    print(f\"{i} está subrepresentada\")\n",
        "  else:\n",
        "    print(f\"{i} está con representación proporcional\")"
      ]
    },
    {
      "cell_type": "markdown",
      "metadata": {
        "id": "GokZe5tV-c9z"
      },
      "source": [
        "#### Ejercicio 10\n",
        "Si buscáramos minimizar la subrepresentación de la provincia de Buenos Aires, ¿cuántos representantes debería tener según el Censo 2022? Usemos el mismo criterio de sub/sobrerepresentacion que en el ejercicio anterior: población sobre cantidad de representantes.\n",
        "\n",
        "Para responder esta pregunta construyan un while loop que incremente de a uno la cantidad de representantes de la Provincia hasta minimizar la subrepresentación. En cada iteración impriman un cartel que diga: \"Se agregó un representante, el total ahora es X\" dónde X es el número de representantes simulado."
      ]
    },
    {
      "cell_type": "code",
      "execution_count": null,
      "metadata": {
        "id": "x9DvuXa_-c9z"
      },
      "outputs": [],
      "source": [
        "# Estos son los valores de la provincia\n",
        "representantes_pba = 70\n",
        "poblacion2010_pba = 17594428\n",
        "\n",
        "\n",
        "# Y el valor de referencia nacional\n",
        "argentina = 46044703 / 257\n"
      ]
    },
    {
      "cell_type": "code",
      "execution_count": null,
      "metadata": {
        "id": "fiWYCC08RKoZ",
        "colab": {
          "base_uri": "https://localhost:8080/"
        },
        "outputId": "4a6f0d73-78ce-4c18-e138-d349e5733204"
      },
      "outputs": [
        {
          "output_type": "stream",
          "name": "stdout",
          "text": [
            "Se agregó un representante, el total ahora es 71\n",
            "Se agregó un representante, el total ahora es 72\n",
            "Se agregó un representante, el total ahora es 73\n",
            "Se agregó un representante, el total ahora es 74\n",
            "Se agregó un representante, el total ahora es 75\n",
            "Se agregó un representante, el total ahora es 76\n",
            "Se agregó un representante, el total ahora es 77\n",
            "Se agregó un representante, el total ahora es 78\n",
            "Se agregó un representante, el total ahora es 79\n",
            "Se agregó un representante, el total ahora es 80\n",
            "Se agregó un representante, el total ahora es 81\n",
            "Se agregó un representante, el total ahora es 82\n",
            "Se agregó un representante, el total ahora es 83\n",
            "Se agregó un representante, el total ahora es 84\n",
            "Se agregó un representante, el total ahora es 85\n",
            "Se agregó un representante, el total ahora es 86\n",
            "Se agregó un representante, el total ahora es 87\n",
            "Se agregó un representante, el total ahora es 88\n",
            "Se agregó un representante, el total ahora es 89\n",
            "Se agregó un representante, el total ahora es 90\n",
            "Se agregó un representante, el total ahora es 91\n",
            "Se agregó un representante, el total ahora es 92\n",
            "Se agregó un representante, el total ahora es 93\n",
            "Se agregó un representante, el total ahora es 94\n",
            "Se agregó un representante, el total ahora es 95\n",
            "Se agregó un representante, el total ahora es 96\n",
            "Se agregó un representante, el total ahora es 97\n",
            "Se agregó un representante, el total ahora es 98\n"
          ]
        }
      ],
      "source": [
        "# Resolver acá\n",
        "\n",
        "while poblacion2010_pba / (representantes_pba + 1) > argentina:\n",
        "  representantes_pba += 1\n",
        "  print(f\"Se agregó un representante, el total ahora es {representantes_pba}\")\n",
        "\n",
        "\n"
      ]
    }
  ],
  "metadata": {
    "anaconda-cloud": {},
    "colab": {
      "provenance": []
    },
    "kernelspec": {
      "display_name": "Python 3 (ipykernel)",
      "language": "python",
      "name": "python3"
    },
    "language_info": {
      "codemirror_mode": {
        "name": "ipython",
        "version": 3
      },
      "file_extension": ".py",
      "mimetype": "text/x-python",
      "name": "python",
      "nbconvert_exporter": "python",
      "pygments_lexer": "ipython3",
      "version": "3.12.4"
    }
  },
  "nbformat": 4,
  "nbformat_minor": 0
}