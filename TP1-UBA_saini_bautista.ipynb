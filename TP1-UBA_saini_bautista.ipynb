{
 "cells": [
  {
   "cell_type": "markdown",
   "metadata": {
    "collapsed": true,
    "id": "Dh8MkXaG-c9Y",
    "jupyter": {
     "outputs_hidden": true
    }
   },
   "source": [
    "# Big Data (UBA) -  2024\n",
    "\n",
    "## Trabajo Práctico 1 "
   ]
  },
  {
   "cell_type": "markdown",
   "metadata": {
    "id": "RhBlm6mZ-c9e"
   },
   "source": [
    "### Reglas de formato y presentación\n",
    "- El trabajo debe estar debidamente documentado comentado (utilizando #) para que tanto los docentes como sus compañeros puedan comprender el código fácilmente.\n",
    "\n",
    "- El mismo debe ser completado en este Jupyter Notebook y entregado como tal, es decir en un archivo .ipynb\n"
   ]
  },
  {
   "cell_type": "markdown",
   "metadata": {
    "id": "ZEjGaa4U-c9g"
   },
   "source": [
    "### Fecha de entrega:\n",
    "Viernes 25 de octubre a las 13:00 hs"
   ]
  },
  {
   "cell_type": "markdown",
   "metadata": {
    "id": "N9TU2y7E-c9h"
   },
   "source": [
    "### Modalidad de entrega\n",
    "- Al finalizar el trabajo práctico deben hacer un último <i>commit</i> en su repositorio de GitHub llamado “Entrega final del tp”. \n",
    "- Asegurense de haber creado una carpeta llamada TP1. Este Jupyter Notebook y el correspondiente al TP1 deben estar dentro de esa carpeta.\n",
    "- También deben enviar el link de su repositorio -para que pueda ser clonado y corregido- a mi correo m.n.romero91@gmail.com\n",
    "- La última versión en el repositorio es la que será evaluada. Por lo que es importante que: \n",
    "    - No envien el correo hasta no haber terminado y estar seguros de que han hecho el <i>commit y push</i> a la versión final que quieren entregar. Debido a que se pueden tomar hasta 3 días de extensión a lo largo del curso, no se corregirán sus tareas hasta no recibir el correo.\n",
    "    - No hagan nuevos <i>push</i> despues de haber entregado su versión final. Esto generaría confusión acerca de que versión es la que quieren que se les corrija. "
   ]
  },
  {
   "cell_type": "markdown",
   "metadata": {},
   "source": [
    "### Parte A"
   ]
  },
  {
   "cell_type": "markdown",
   "metadata": {
    "id": "ZXbrPraa-c9i"
   },
   "source": [
    "#### Ejercicio 1\n",
    "Usando la API de Mercado Libre, obtener los ítems de una consulta de búsqueda. Pueden buscar cualquier producto de su interés."
   ]
  },
  {
   "cell_type": "code",
   "metadata": {
    "ExecuteTime": {
     "end_time": "2024-10-23T14:07:07.903544Z",
     "start_time": "2024-10-23T14:07:06.900021Z"
    }
   },
   "source": [
    "# Importa la biblioteca requests para enviar solicitudes HTTP.\n",
    "import requests\n",
    "\n",
    "# Definir la palabra clave de búsqueda (en este caso, \"cafe\").\n",
    "buscar = \"cafe\"\n",
    "\n",
    "# Formar la URL para la API de Mercado Libre.\n",
    "# MLA representa el sitio de Argentina, y el espacio en la búsqueda se reemplaza por \"%20\".\n",
    "url = \"https://api.mercadolibre.com/sites/{}/search?q={}\".format(\"MLA\", buscar.replace(\" \", \"%20\"))\n",
    "\n",
    "# Envía una solicitud GET a la URL especificada.\n",
    "response = requests.request(\"GET\", url)\n",
    "\n",
    "# Convierte la respuesta en formato JSON a un diccionario de Python.\n",
    "data = response.json()\n",
    "\n",
    "# Extrae la lista de resultados de la clave \"results\" en el JSON.\n",
    "resultados = data[\"results\"]\n",
    "\n",
    "# Inicializa dos listas vacías para almacenar los títulos de productos y sus precios.\n",
    "productos = []\n",
    "precios = []\n",
    "\n",
    "# Itera sobre cada resultado en la lista de resultados.\n",
    "for result in resultados:\n",
    "    # Agrega el título del producto a la lista 'productos'.\n",
    "    productos += [result[\"title\"]]\n",
    "    # Agrega el precio del producto a la lista 'precios'.\n",
    "    precios += [result[\"price\"]]\n",
    "\n",
    "# Crea un diccionario con las listas de productos y precios como columnas.\n",
    "dicto = {\"Productos\": productos, \"Precios\": precios}\n"
   ],
   "outputs": [],
   "execution_count": 16
  },
  {
   "cell_type": "markdown",
   "metadata": {},
   "source": [
    "#### Ejercicio 2\n",
    "Guarden los precios de los ítems obtenidos en un dataframe y calculen el precio promedio, el mínimo y el máximo. "
   ]
  },
  {
   "cell_type": "code",
   "metadata": {
    "ExecuteTime": {
     "end_time": "2024-10-23T14:10:41.441868Z",
     "start_time": "2024-10-23T14:10:41.436821Z"
    }
   },
   "source": [
    "# Importa la biblioteca pandas, utilizada para la manipulación de datos en estructuras tipo DataFrame.\n",
    "import pandas as pd\n",
    "\n",
    "# Convierte el diccionario 'dicto' en un DataFrame de pandas.\n",
    "df_dicto = pd.DataFrame(dicto)\n",
    "\n",
    "# Calcula el promedio, el valor mínimo y el valor máximo de la columna \"Precios\".\n",
    "# Luego imprime los resultados.\n",
    "print(\n",
    "    df_dicto[\"Precios\"].mean(),  # Promedio de los precios.\n",
    "    df_dicto[\"Precios\"].min(),   # Precio mínimo.\n",
    "    df_dicto[\"Precios\"].max()    # Precio máximo.\n",
    ")\n"
   ],
   "outputs": [
    {
     "name": "stdout",
     "output_type": "stream",
     "text": [
      "19058.6158 3966.0 55317.0\n"
     ]
    }
   ],
   "execution_count": 23
  },
  {
   "cell_type": "markdown",
   "metadata": {},
   "source": [
    "#### Ejercicio 3\n",
    "Armen un histograma de los precios. ¿Ven algún <i>outlier<i>? \n",
    "Nota: pueden usar la librería de Matplotlib o la de Pandas."
   ]
  },
  {
   "cell_type": "code",
   "metadata": {
    "ExecuteTime": {
     "end_time": "2024-10-23T14:11:38.003149Z",
     "start_time": "2024-10-23T14:11:37.886367Z"
    }
   },
   "source": [
    "# Importa la biblioteca matplotlib.pyplot, utilizada para crear visualizaciones.\n",
    "import matplotlib.pyplot as plt\n",
    "\n",
    "# Crea una nueva figura con un tamaño de 8x6 pulgadas.\n",
    "plt.figure(figsize=(8, 6))  # Opcional: Ajusta el tamaño de la figura.\n",
    "\n",
    "# Crea un histograma de la columna \"Precios\" del DataFrame.\n",
    "# Usa 30 bins (barras) y bordes negros para mayor claridad.\n",
    "plt.hist(df_dicto[\"Precios\"], bins=30, edgecolor='black')  # Histograma con 30 bins.\n",
    "\n",
    "# Agrega la etiqueta para el eje X.\n",
    "plt.xlabel(\"Precio\")\n",
    "\n",
    "# Agrega la etiqueta para el eje Y.\n",
    "plt.ylabel(\"Frecuencia\")\n",
    "\n",
    "# Agrega el título de la gráfica.\n",
    "plt.title(\"Distribución de Precios\")\n",
    "\n",
    "# Muestra la gráfica.\n",
    "plt.show()\n"
   ],
   "outputs": [
    {
     "data": {
      "text/plain": [
       "<Figure size 800x600 with 1 Axes>"
      ],
      "image/png": "[encoded data removed]"
     },
     "metadata": {},
     "output_type": "display_data"
    }
   ],
   "execution_count": 24
  },
  {
   "metadata": {
    "ExecuteTime": {
     "end_time": "2024-10-23T14:13:00.612162Z",
     "start_time": "2024-10-23T14:13:00.603061Z"
    }
   },
   "cell_type": "code",
   "source": [
    "# Definiremos un valor atípico (outlier) como cualquier valor que esté \n",
    "# 2 desviaciones estándar por encima o por debajo de la media.\n",
    "\n",
    "def filtrar_por_desviacion_estandar(df, columna):\n",
    "    \"\"\"\n",
    "    Devuelve un DataFrame con las filas donde los valores en la columna especificada\n",
    "    están más de 2 desviaciones estándar por encima o por debajo de la media.\n",
    "\n",
    "    Parámetros:\n",
    "        df (pd.DataFrame): DataFrame de entrada.\n",
    "        columna (str): Nombre de la columna en la que se aplicará el filtro.\n",
    "        \n",
    "    Retorna:\n",
    "        pd.DataFrame: DataFrame filtrado con los valores atípicos.\n",
    "    \"\"\"\n",
    "    # Calcula la media y la desviación estándar de la columna especificada.\n",
    "    media = df[columna].mean()  # Media de los valores en la columna.\n",
    "    desviacion_estandar = df[columna].std()  # Desviación estándar de los valores en la columna.\n",
    "    \n",
    "    # Define los límites inferior y superior (2 desviaciones estándar desde la media).\n",
    "    limite_inferior = media - 2 * desviacion_estandar  # Límite inferior.\n",
    "    limite_superior = media + 2 * desviacion_estandar  # Límite superior.\n",
    "    \n",
    "    # Filtra el DataFrame para obtener las filas fuera de los límites definidos.\n",
    "    df_filtrado = df[(df[columna] < limite_inferior) | (df[columna] > limite_superior)]\n",
    "    \n",
    "    # Retorna el DataFrame filtrado con los valores atípicos.\n",
    "    return df_filtrado\n",
    "\n",
    "# Llamada a la función para encontrar los valores atípicos en la columna \"Precios\".\n",
    "filtrar_por_desviacion_estandar(df_dicto, \"Precios\")\n",
    "\n",
    "\n"
   ],
   "outputs": [
    {
     "data": {
      "text/plain": [
       "                                            Productos  Precios\n",
       "11  Café Lavazza - Crema E Aroma Italia En Grano X...  51000.0\n",
       "35          Cafe En Grano Lavazza Crema E Aroma 1 Kg.  50000.0\n",
       "43    Cafe Tostado Italiano Luggiani Rosso - 2 Kilos   55317.0\n",
       "47  Cafe Lavazza Crema E Aroma En Granos X 1kg-ita...  52436.0"
      ],
      "text/html": [
       "<div>\n",
       "<style scoped>\n",
       "    .dataframe tbody tr th:only-of-type {\n",
       "        vertical-align: middle;\n",
       "    }\n",
       "\n",
       "    .dataframe tbody tr th {\n",
       "        vertical-align: top;\n",
       "    }\n",
       "\n",
       "    .dataframe thead th {\n",
       "        text-align: right;\n",
       "    }\n",
       "</style>\n",
       "<table border=\"1\" class=\"dataframe\">\n",
       "  <thead>\n",
       "    <tr style=\"text-align: right;\">\n",
       "      <th></th>\n",
       "      <th>Productos</th>\n",
       "      <th>Precios</th>\n",
       "    </tr>\n",
       "  </thead>\n",
       "  <tbody>\n",
       "    <tr>\n",
       "      <th>11</th>\n",
       "      <td>Café Lavazza - Crema E Aroma Italia En Grano X...</td>\n",
       "      <td>51000.0</td>\n",
       "    </tr>\n",
       "    <tr>\n",
       "      <th>35</th>\n",
       "      <td>Cafe En Grano Lavazza Crema E Aroma 1 Kg.</td>\n",
       "      <td>50000.0</td>\n",
       "    </tr>\n",
       "    <tr>\n",
       "      <th>43</th>\n",
       "      <td>Cafe Tostado Italiano Luggiani Rosso - 2 Kilos</td>\n",
       "      <td>55317.0</td>\n",
       "    </tr>\n",
       "    <tr>\n",
       "      <th>47</th>\n",
       "      <td>Cafe Lavazza Crema E Aroma En Granos X 1kg-ita...</td>\n",
       "      <td>52436.0</td>\n",
       "    </tr>\n",
       "  </tbody>\n",
       "</table>\n",
       "</div>"
      ]
     },
     "execution_count": 26,
     "metadata": {},
     "output_type": "execute_result"
    }
   ],
   "execution_count": 26
  },
  {
   "cell_type": "markdown",
   "metadata": {},
   "source": [
    "#### Ejercicio 4\n",
    "Realicen alguna consulta adicional utilizando la API de Mercado Libre (debe ser alguna consulta que no se haya visto en clase. Por ejemplo, obtener los ítems de un vendedor en particular, obtener los productos de una categoría u otros). Analicen los resultados y comenten uno o dos que les parezcan interesantes (por ejemplo, precios promedio de los productos de un vendedor, diferencia entre el precio original y actual, si acepta mercado pago para la compra de productos, etc.) "
   ]
  },
  {
   "cell_type": "code",
   "metadata": {
    "ExecuteTime": {
     "end_time": "2024-10-23T14:14:48.744147Z",
     "start_time": "2024-10-23T14:14:47.966383Z"
    }
   },
   "source": [
    "# Definimos la palabra clave de búsqueda (en este caso, \"mate\").\n",
    "buscar_2 = \"mate\"\n",
    "\n",
    "# Formamos la URL para la API de Mercado Libre.\n",
    "# MLA representa el sitio de Argentina, y se reemplazan los espacios por \"%20\".\n",
    "url_2 = \"https://api.mercadolibre.com/sites/{}/search?q={}\".format(\"MLA\", buscar_2.replace(\" \", \"%20\"))\n",
    "\n",
    "# Enviamos una solicitud GET a la URL formada.\n",
    "response_2 = requests.request(\"GET\", url_2)\n",
    "\n",
    "# Convertimos la respuesta en un diccionario de Python usando el formato JSON.\n",
    "data_2 = response_2.json()\n",
    "\n",
    "# Extraemos los resultados del JSON usando la clave \"results\".\n",
    "resultados_2 = data_2[\"results\"]\n",
    "\n",
    "# Inicializamos dos listas vacías para almacenar los productos y sus precios.\n",
    "productos_2 = []\n",
    "precios_2 = []\n",
    "\n",
    "# Iteramos sobre cada resultado en los resultados extraídos.\n",
    "for result in resultados_2:\n",
    "    # Agregamos el título del producto a la lista 'productos_2'.\n",
    "    productos_2 += [result[\"title\"]]\n",
    "    # Agregamos el precio del producto a la lista 'precios_2'.\n",
    "    precios_2 += [result[\"price\"]]\n",
    "\n",
    "# Creamos un DataFrame de pandas a partir de las listas de productos y precios.\n",
    "df_dicti_2 = pd.DataFrame({\"Productos\": productos_2, \"Precios\": precios_2})\n",
    "\n",
    "# Calculamos e imprimimos el promedio, el precio mínimo y el máximo de la columna \"Precios\".\n",
    "print(\n",
    "    df_dicti_2[\"Precios\"].mean(),  # Promedio de los precios.\n",
    "    df_dicti_2[\"Precios\"].min(),   # Precio mínimo.\n",
    "    df_dicti_2[\"Precios\"].max()    # Precio máximo.\n",
    ")\n"
   ],
   "outputs": [
    {
     "name": "stdout",
     "output_type": "stream",
     "text": [
      "29556.390408163268 3280.0 82900.0\n"
     ]
    }
   ],
   "execution_count": 27
  },
  {
   "cell_type": "markdown",
   "metadata": {},
   "source": [
    "### Parte B"
   ]
  },
  {
   "cell_type": "markdown",
   "metadata": {},
   "source": [
    "#### Ejercicio 5\n",
    "De la página de noticias del [diario La Nación](https://www.lanacion.com.ar/), utilicen herramientas de web scraping para obtener los links de las noticias de la portada. Guarden los links obtenidos en un dataframe y expórtenlo a un archivo de excel.\n",
    "\n",
    "Nota 1: es posible que logren obtener los links a las noticias sin el dominio: \"https://www.lanacion.com.ar/\". De ser así, concatenen el dominio a la ruta del link obtenido, tal que se obtenga un link al que se pueda acceder. Es decir, que las cadenas de caracteres finales tendrán la forma: https://www.lanacion.com.ar/*texto_obtenido*)\n",
    "\n",
    "Nota 2: junto con su entrega, adjunten una captura de la página de noticias al momento de correr su código. Eso servirá al momento de la corrección para verificar que los links obtenidos hacen referencia a las noticias de ese día y hora."
   ]
  },
  {
   "cell_type": "code",
   "metadata": {
    "ExecuteTime": {
     "end_time": "2024-10-23T14:15:03.666147Z",
     "start_time": "2024-10-23T14:15:02.912628Z"
    }
   },
   "source": [
    "# Importación de las bibliotecas necesarias:\n",
    "# - requests: para enviar solicitudes HTTP y obtener el contenido de la página web.\n",
    "# - BeautifulSoup: para analizar contenido HTML y XML.\n",
    "# - pandas: para crear y manipular DataFrames.\n",
    "import requests\n",
    "from bs4 import BeautifulSoup\n",
    "import pandas as pd\n",
    "\n",
    "# URL de la página principal de La Nación que queremos extraer.\n",
    "url = \"https://www.lanacion.com.ar/\"\n",
    "\n",
    "# Enviar una solicitud GET a la URL especificada para obtener el contenido HTML de la página web.\n",
    "response = requests.get(url)\n",
    "\n",
    "# Lanza una excepción si la solicitud HTTP devuelve un código de estado no exitoso (no 2xx).\n",
    "response.raise_for_status()  # Asegura que la solicitud se haya completado con éxito.\n",
    "\n",
    "# Crear un objeto BeautifulSoup para analizar el contenido HTML obtenido.\n",
    "# El \"html.parser\" indica a BeautifulSoup que use el analizador HTML incorporado de Python.\n",
    "soup = BeautifulSoup(response.content, \"html.parser\")\n",
    "\n",
    "# Inicializar una lista vacía para almacenar los enlaces de los artículos de noticias.\n",
    "links = []\n",
    "\n",
    "# Iterar sobre todas las etiquetas <a> (etiquetas de enlace) en el HTML analizado.\n",
    "# Cada etiqueta <a> representa un enlace en la página web.\n",
    "for a_tag in soup.find_all(\"a\", href=True):\n",
    "    # Extraer el atributo 'href', que contiene la URL del enlace.\n",
    "    href = a_tag[\"href\"]\n",
    "    \n",
    "    # Filtrar los enlaces para incluir únicamente:\n",
    "    # - URLs completas que contengan \"lanacion.com.ar\".\n",
    "    # - URLs relativas que comiencen con \"/nota/\", indicando artículos de noticias.\n",
    "    if \"lanacion.com.ar\" in href or href.startswith(\"/nota/\"):\n",
    "        # Si el enlace comienza con \"http\", ya es una URL completa.\n",
    "        # De lo contrario, se le agrega el prefijo de la URL base para formar una URL completa.\n",
    "        full_link = href if href.startswith(\"http\") else f\"https://www.lanacion.com.ar{href}\"\n",
    "        \n",
    "        # Agregar el enlace extraído como un diccionario a la lista 'links'.\n",
    "        links.append({\"link\": full_link})\n",
    "\n",
    "# Crear un DataFrame a partir de la lista 'links'.\n",
    "# Cada diccionario en la lista se convierte en una fila del DataFrame, con 'link' como columna.\n",
    "df = pd.DataFrame(links)\n",
    "\n",
    "# Comprobar si el DataFrame está vacío (es decir, si no se encontraron enlaces).\n",
    "if df.empty:\n",
    "    print(\"No se encontraron enlaces de noticias.\")  # Imprimir un mensaje si no se encuentran enlaces.\n",
    "else:\n",
    "    # Definir la ruta del archivo de salida para guardar el DataFrame como un archivo Excel.\n",
    "    output_path = \"lanacion_news_links.xlsx\"\n",
    "    \n",
    "    # Guardar el DataFrame en el archivo Excel especificado sin incluir los índices de las filas.\n",
    "    df.to_excel(output_path, index=False)\n",
    "    \n",
    "    # Imprimir un mensaje de éxito indicando dónde se guardó el archivo.\n",
    "    print(f\"Enlaces guardados exitosamente en {output_path}\")\n",
    "\n",
    "# Mostrar el DataFrame para verificar visualmente los enlaces extraídos.\n",
    "print(df)\n"
   ],
   "outputs": [
    {
     "name": "stdout",
     "output_type": "stream",
     "text": [
      "Enlaces guardados exitosamente en lanacion_news_links.xlsx\n",
      "                                                  link\n",
      "0                        https://club.lanacion.com.ar/\n",
      "1                       https://lnmas.lanacion.com.ar/\n",
      "2                      https://foodit.lanacion.com.ar/\n",
      "3                 https://canchallena.lanacion.com.ar/\n",
      "4               https://www.lanacion.com.ar/dolar-hoy/\n",
      "..                                                 ...\n",
      "138  https://www.contacto.lanacion.com.ar/ayuda?_ga...\n",
      "139                https://club.lanacion.com.ar/ayuda/\n",
      "140  https://www.contacto.lanacion.com.ar/tyc?_ga=2...\n",
      "141  https://suscripciones.lanacion.com.ar/suscribi...\n",
      "142  https://www.lanacion.com.ar/arc/outboundfeeds/...\n",
      "\n",
      "[143 rows x 1 columns]\n"
     ]
    }
   ],
   "execution_count": 28
  },
  {
   "metadata": {
    "ExecuteTime": {
     "end_time": "2024-10-23T14:15:08.474717Z",
     "start_time": "2024-10-23T14:15:08.467332Z"
    }
   },
   "cell_type": "code",
   "source": "df",
   "outputs": [
    {
     "data": {
      "text/plain": [
       "                                                  link\n",
       "0                        https://club.lanacion.com.ar/\n",
       "1                       https://lnmas.lanacion.com.ar/\n",
       "2                      https://foodit.lanacion.com.ar/\n",
       "3                 https://canchallena.lanacion.com.ar/\n",
       "4               https://www.lanacion.com.ar/dolar-hoy/\n",
       "..                                                 ...\n",
       "138  https://www.contacto.lanacion.com.ar/ayuda?_ga...\n",
       "139                https://club.lanacion.com.ar/ayuda/\n",
       "140  https://www.contacto.lanacion.com.ar/tyc?_ga=2...\n",
       "141  https://suscripciones.lanacion.com.ar/suscribi...\n",
       "142  https://www.lanacion.com.ar/arc/outboundfeeds/...\n",
       "\n",
       "[143 rows x 1 columns]"
      ],
      "text/html": [
       "<div>\n",
       "<style scoped>\n",
       "    .dataframe tbody tr th:only-of-type {\n",
       "        vertical-align: middle;\n",
       "    }\n",
       "\n",
       "    .dataframe tbody tr th {\n",
       "        vertical-align: top;\n",
       "    }\n",
       "\n",
       "    .dataframe thead th {\n",
       "        text-align: right;\n",
       "    }\n",
       "</style>\n",
       "<table border=\"1\" class=\"dataframe\">\n",
       "  <thead>\n",
       "    <tr style=\"text-align: right;\">\n",
       "      <th></th>\n",
       "      <th>link</th>\n",
       "    </tr>\n",
       "  </thead>\n",
       "  <tbody>\n",
       "    <tr>\n",
       "      <th>0</th>\n",
       "      <td>https://club.lanacion.com.ar/</td>\n",
       "    </tr>\n",
       "    <tr>\n",
       "      <th>1</th>\n",
       "      <td>https://lnmas.lanacion.com.ar/</td>\n",
       "    </tr>\n",
       "    <tr>\n",
       "      <th>2</th>\n",
       "      <td>https://foodit.lanacion.com.ar/</td>\n",
       "    </tr>\n",
       "    <tr>\n",
       "      <th>3</th>\n",
       "      <td>https://canchallena.lanacion.com.ar/</td>\n",
       "    </tr>\n",
       "    <tr>\n",
       "      <th>4</th>\n",
       "      <td>https://www.lanacion.com.ar/dolar-hoy/</td>\n",
       "    </tr>\n",
       "    <tr>\n",
       "      <th>...</th>\n",
       "      <td>...</td>\n",
       "    </tr>\n",
       "    <tr>\n",
       "      <th>138</th>\n",
       "      <td>https://www.contacto.lanacion.com.ar/ayuda?_ga...</td>\n",
       "    </tr>\n",
       "    <tr>\n",
       "      <th>139</th>\n",
       "      <td>https://club.lanacion.com.ar/ayuda/</td>\n",
       "    </tr>\n",
       "    <tr>\n",
       "      <th>140</th>\n",
       "      <td>https://www.contacto.lanacion.com.ar/tyc?_ga=2...</td>\n",
       "    </tr>\n",
       "    <tr>\n",
       "      <th>141</th>\n",
       "      <td>https://suscripciones.lanacion.com.ar/suscribi...</td>\n",
       "    </tr>\n",
       "    <tr>\n",
       "      <th>142</th>\n",
       "      <td>https://www.lanacion.com.ar/arc/outboundfeeds/...</td>\n",
       "    </tr>\n",
       "  </tbody>\n",
       "</table>\n",
       "<p>143 rows × 1 columns</p>\n",
       "</div>"
      ]
     },
     "execution_count": 29,
     "metadata": {},
     "output_type": "execute_result"
    }
   ],
   "execution_count": 29
  },
  {
   "metadata": {},
   "cell_type": "code",
   "outputs": [],
   "execution_count": null,
   "source": ""
  }
 ],
 "metadata": {
  "anaconda-cloud": {},
  "colab": {
   "name": "TP1 - Parte 1.ipynb",
   "provenance": []
  },
  "kernelspec": {
   "display_name": "Python 3 (ipykernel)",
   "language": "python",
   "name": "python3"
  },
  "language_info": {
   "codemirror_mode": {
    "name": "ipython",
    "version": 3
   },
   "file_extension": ".py",
   "mimetype": "text/x-python",
   "name": "python",
   "nbconvert_exporter": "python",
   "pygments_lexer": "ipython3",
   "version": "3.12.4"
  }
 },
 "nbformat": 4,
 "nbformat_minor": 4
}
